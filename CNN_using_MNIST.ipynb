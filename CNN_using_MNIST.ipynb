{
  "nbformat": 4,
  "nbformat_minor": 0,
  "metadata": {
    "colab": {
      "provenance": []
    },
    "kernelspec": {
      "name": "python3",
      "display_name": "Python 3"
    },
    "language_info": {
      "name": "python"
    }
  },
  "cells": [
    {
      "cell_type": "code",
      "execution_count": 3,
      "metadata": {
        "id": "N9D1_a2E_7C5"
      },
      "outputs": [],
      "source": [
        "import tensorflow as tf # tools to build and train Neural Network\n",
        "from tensorflow.keras.models import Sequential # represents layers in a linear stack in NN\n",
        "from tensorflow.keras.layers import Conv2D, MaxPooling2D, Flatten, Dense # defines architecture of NN\n",
        "from tensorflow.keras.datasets import mnist # provide nmist dataset\n",
        "from tensorflow.keras.utils import to_categorical # convert to categorical"
      ]
    },
    {
      "cell_type": "code",
      "source": [
        "# MNIST Dataset load\n",
        "(X_train, y_train), (X_test, y_test) = mnist.load_data()\n",
        "y_train"
      ],
      "metadata": {
        "colab": {
          "base_uri": "https://localhost:8080/"
        },
        "id": "C_DQS59lAoQV",
        "outputId": "3dd0c988-636d-4344-a1be-76ec585692e8"
      },
      "execution_count": 4,
      "outputs": [
        {
          "output_type": "stream",
          "name": "stdout",
          "text": [
            "Downloading data from https://storage.googleapis.com/tensorflow/tf-keras-datasets/mnist.npz\n",
            "\u001b[1m11490434/11490434\u001b[0m \u001b[32m━━━━━━━━━━━━━━━━━━━━\u001b[0m\u001b[37m\u001b[0m \u001b[1m0s\u001b[0m 0us/step\n"
          ]
        },
        {
          "output_type": "execute_result",
          "data": {
            "text/plain": [
              "array([5, 0, 4, ..., 5, 6, 8], dtype=uint8)"
            ]
          },
          "metadata": {},
          "execution_count": 4
        }
      ]
    },
    {
      "cell_type": "code",
      "source": [
        "#Preprocess Data [Normalisation] -> MNIST 28*28 greyscale, pixel value 0-255\n",
        "X_train = X_train.reshape(-1,28,28,1).astype('float32')/255.0\n",
        "X_test = X_test.reshape(-1,28,28,1).astype('float32')/255.0\n",
        "y_train = to_categorical(y_train, 10)\n",
        "y_test = to_categorical(y_test,10)"
      ],
      "metadata": {
        "id": "dn7OiOsHC1_D"
      },
      "execution_count": 5,
      "outputs": []
    },
    {
      "cell_type": "code",
      "source": [
        "model = Sequential ([\n",
        "    Conv2D(32,(3,3), activation = 'relu', input_shape =(28,28,1)),\n",
        "    MaxPooling2D ((2,2)),\n",
        "    Conv2D(64,(3,3), activation ='relu'),\n",
        "    MaxPooling2D ((2,2)),\n",
        "    Flatten(),\n",
        "    Dense(120, activation='relu'),\n",
        "    Dense(10, activation='softmax')\n",
        "])"
      ],
      "metadata": {
        "colab": {
          "base_uri": "https://localhost:8080/"
        },
        "id": "mILd-gEYFPxy",
        "outputId": "899130c6-3b04-4540-8e85-565c33250c99"
      },
      "execution_count": 6,
      "outputs": [
        {
          "output_type": "stream",
          "name": "stderr",
          "text": [
            "/usr/local/lib/python3.11/dist-packages/keras/src/layers/convolutional/base_conv.py:107: UserWarning: Do not pass an `input_shape`/`input_dim` argument to a layer. When using Sequential models, prefer using an `Input(shape)` object as the first layer in the model instead.\n",
            "  super().__init__(activity_regularizer=activity_regularizer, **kwargs)\n"
          ]
        }
      ]
    },
    {
      "cell_type": "code",
      "source": [
        "model.compile(optimizer ='adam', loss = 'categorical_crossentropy', metrics=['accuracy'])\n",
        "\n",
        "# Evaluate the model on the test data\n",
        "test_loss, test_acc = model.evaluate(X_test, y_test)\n",
        "print(f\"Test accuracy: {test_acc}\")"
      ],
      "metadata": {
        "id": "tjC-V_H4J4d6",
        "colab": {
          "base_uri": "https://localhost:8080/"
        },
        "outputId": "8b71b999-5f8d-439a-d523-62470a42af72"
      },
      "execution_count": 7,
      "outputs": [
        {
          "output_type": "stream",
          "name": "stdout",
          "text": [
            "\u001b[1m313/313\u001b[0m \u001b[32m━━━━━━━━━━━━━━━━━━━━\u001b[0m\u001b[37m\u001b[0m \u001b[1m4s\u001b[0m 12ms/step - accuracy: 0.0982 - loss: 2.3046\n",
            "Test accuracy: 0.10159999877214432\n"
          ]
        }
      ]
    },
    {
      "cell_type": "code",
      "source": [
        "# Fix this error -- batch size and dense\n",
        "model.fit(X_train, y_train, epochs=10, batch_size=50, validation_split=0.1)"
      ],
      "metadata": {
        "colab": {
          "base_uri": "https://localhost:8080/"
        },
        "id": "BVNJ5OjiKLPc",
        "outputId": "c33e9e55-3567-4945-b6a2-df17ca448c6b"
      },
      "execution_count": null,
      "outputs": [
        {
          "output_type": "stream",
          "name": "stdout",
          "text": [
            "Epoch 1/10\n",
            "\u001b[1m1080/1080\u001b[0m \u001b[32m━━━━━━━━━━━━━━━━━━━━\u001b[0m\u001b[37m\u001b[0m \u001b[1m54s\u001b[0m 48ms/step - accuracy: 0.8857 - loss: 0.3722 - val_accuracy: 0.9857 - val_loss: 0.0515\n",
            "Epoch 2/10\n",
            "\u001b[1m1080/1080\u001b[0m \u001b[32m━━━━━━━━━━━━━━━━━━━━\u001b[0m\u001b[37m\u001b[0m \u001b[1m83s\u001b[0m 49ms/step - accuracy: 0.9841 - loss: 0.0513 - val_accuracy: 0.9888 - val_loss: 0.0386\n",
            "Epoch 3/10\n",
            "\u001b[1m1080/1080\u001b[0m \u001b[32m━━━━━━━━━━━━━━━━━━━━\u001b[0m\u001b[37m\u001b[0m \u001b[1m79s\u001b[0m 46ms/step - accuracy: 0.9896 - loss: 0.0328 - val_accuracy: 0.9870 - val_loss: 0.0448\n",
            "Epoch 4/10\n",
            "\u001b[1m1080/1080\u001b[0m \u001b[32m━━━━━━━━━━━━━━━━━━━━\u001b[0m\u001b[37m\u001b[0m \u001b[1m82s\u001b[0m 46ms/step - accuracy: 0.9922 - loss: 0.0247 - val_accuracy: 0.9903 - val_loss: 0.0369\n",
            "Epoch 5/10\n",
            "\u001b[1m1080/1080\u001b[0m \u001b[32m━━━━━━━━━━━━━━━━━━━━\u001b[0m\u001b[37m\u001b[0m \u001b[1m82s\u001b[0m 47ms/step - accuracy: 0.9944 - loss: 0.0161 - val_accuracy: 0.9917 - val_loss: 0.0324\n",
            "Epoch 6/10\n",
            "\u001b[1m1080/1080\u001b[0m \u001b[32m━━━━━━━━━━━━━━━━━━━━\u001b[0m\u001b[37m\u001b[0m \u001b[1m82s\u001b[0m 46ms/step - accuracy: 0.9957 - loss: 0.0127 - val_accuracy: 0.9912 - val_loss: 0.0368\n",
            "Epoch 7/10\n",
            "\u001b[1m1080/1080\u001b[0m \u001b[32m━━━━━━━━━━━━━━━━━━━━\u001b[0m\u001b[37m\u001b[0m \u001b[1m49s\u001b[0m 45ms/step - accuracy: 0.9968 - loss: 0.0104 - val_accuracy: 0.9905 - val_loss: 0.0427\n",
            "Epoch 8/10\n",
            "\u001b[1m1080/1080\u001b[0m \u001b[32m━━━━━━━━━━━━━━━━━━━━\u001b[0m\u001b[37m\u001b[0m \u001b[1m83s\u001b[0m 47ms/step - accuracy: 0.9977 - loss: 0.0080 - val_accuracy: 0.9897 - val_loss: 0.0482\n",
            "Epoch 9/10\n",
            "\u001b[1m1080/1080\u001b[0m \u001b[32m━━━━━━━━━━━━━━━━━━━━\u001b[0m\u001b[37m\u001b[0m \u001b[1m48s\u001b[0m 45ms/step - accuracy: 0.9978 - loss: 0.0075 - val_accuracy: 0.9918 - val_loss: 0.0425\n",
            "Epoch 10/10\n",
            "\u001b[1m1080/1080\u001b[0m \u001b[32m━━━━━━━━━━━━━━━━━━━━\u001b[0m\u001b[37m\u001b[0m \u001b[1m83s\u001b[0m 45ms/step - accuracy: 0.9970 - loss: 0.0081 - val_accuracy: 0.9872 - val_loss: 0.0639\n"
          ]
        },
        {
          "output_type": "execute_result",
          "data": {
            "text/plain": [
              "<keras.src.callbacks.history.History at 0x799d94c32d10>"
            ]
          },
          "metadata": {},
          "execution_count": 13
        }
      ]
    },
    {
      "cell_type": "markdown",
      "source": [
        "Small Kernel Size vs Large Kernel Size\n",
        "- Computational cost\n",
        "- Parameters that it covers\n",
        "- Time for training\n",
        "\n",
        "Large Kernel + Less Data -> Risk of Overfitting\n",
        "- Because the large kernel allows the model to learn highly specific patterns from the limited data\n",
        "- How Overfitting arises? when the model learns noise that is irrelevant datas"
      ],
      "metadata": {
        "id": "Inq6kjiKISD_"
      }
    },
    {
      "cell_type": "code",
      "source": [],
      "metadata": {
        "id": "O0HFehzDQeb0"
      },
      "execution_count": null,
      "outputs": []
    }
  ]
}