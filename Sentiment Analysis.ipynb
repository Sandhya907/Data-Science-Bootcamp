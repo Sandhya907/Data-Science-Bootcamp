{
 "cells": [
  {
   "cell_type": "code",
   "execution_count": 1,
   "id": "6245da9f-0f6d-458e-ae21-d23e502d5809",
   "metadata": {},
   "outputs": [
    {
     "name": "stdout",
     "output_type": "stream",
     "text": [
      "Collecting textblob\n",
      "  Downloading textblob-0.19.0-py3-none-any.whl.metadata (4.4 kB)\n",
      "Requirement already satisfied: nltk>=3.9 in c:\\users\\sandh\\anaconda3\\lib\\site-packages (from textblob) (3.9.1)\n",
      "Requirement already satisfied: click in c:\\users\\sandh\\anaconda3\\lib\\site-packages (from nltk>=3.9->textblob) (8.1.7)\n",
      "Requirement already satisfied: joblib in c:\\users\\sandh\\anaconda3\\lib\\site-packages (from nltk>=3.9->textblob) (1.4.2)\n",
      "Requirement already satisfied: regex>=2021.8.3 in c:\\users\\sandh\\anaconda3\\lib\\site-packages (from nltk>=3.9->textblob) (2024.9.11)\n",
      "Requirement already satisfied: tqdm in c:\\users\\sandh\\anaconda3\\lib\\site-packages (from nltk>=3.9->textblob) (4.66.5)\n",
      "Requirement already satisfied: colorama in c:\\users\\sandh\\anaconda3\\lib\\site-packages (from click->nltk>=3.9->textblob) (0.4.6)\n",
      "Downloading textblob-0.19.0-py3-none-any.whl (624 kB)\n",
      "   ---------------------------------------- 0.0/624.3 kB ? eta -:--:--\n",
      "   ---------------------------------------- 624.3/624.3 kB 7.7 MB/s eta 0:00:00\n",
      "Installing collected packages: textblob\n",
      "Successfully installed textblob-0.19.0\n"
     ]
    }
   ],
   "source": [
    "# Install TextBlob\n",
    "!pip install textblob"
   ]
  },
  {
   "cell_type": "code",
   "execution_count": 2,
   "id": "4c03fa2b-0945-4abb-ae63-80c4260f129b",
   "metadata": {},
   "outputs": [],
   "source": [
    "# Import TextBlob\n",
    "from textblob import TextBlob"
   ]
  },
  {
   "cell_type": "code",
   "execution_count": 6,
   "id": "0e7a5281-24a5-480a-9a0c-03322aeedaf8",
   "metadata": {},
   "outputs": [],
   "source": [
    "# Input: List of sentences\n",
    "texts = [\n",
    "    \"I love programming! It's so much fun.\",\n",
    "    \"This is the worst day of my life.\",\n",
    "    \"I'm not sure how I feel about this.\",\n",
    "    \"What a beautiful day it is!\",\n",
    "    \"The movie was okay, but it could have been better.\",\n",
    "    \"The food was absolutely delicious and exceeded my expectations.\",\n",
    "    \"I hate waiting in long lines at the store.\",\n",
    "    \"The new phone is amazing; I can't stop using it!\",\n",
    "    \"The weather has been terrible all week.\",\n",
    "    \"I don't know why, but I'm feeling very hopeful today.\",\n",
    "    \"The customer service team was rude and unhelpful.\",\n",
    "    \"I got a promotion at work! I'm so excited and grateful.\"\n",
    "]"
   ]
  },
  {
   "cell_type": "code",
   "execution_count": 8,
   "id": "b389db1b-10e5-4172-810c-ec94f396ae49",
   "metadata": {},
   "outputs": [],
   "source": [
    "# Function to analyze and print sentiment of a list of texts\n",
    "def analyze_sentiments(texts):\n",
    "    for text in texts:\n",
    "        blob = TextBlob(text)\n",
    "        sentiment = blob.sentiment\n",
    "        print(f\"Text: {text}\")\n",
    "        print(f\"Sentiment: Polarity={sentiment.polarity}, Subjectivity={sentiment.subjectivity}\")\n",
    "        print(\"Analysis:\", \"Positive\" if sentiment.polarity > 0 else \"Negative\" if sentiment.polarity < 0 else \"Neutral\")\n",
    "        print(\"-\" * 50)"
   ]
  },
  {
   "cell_type": "code",
   "execution_count": 9,
   "id": "cad24eb1-c930-4780-ac50-674c62e4819b",
   "metadata": {},
   "outputs": [
    {
     "name": "stdout",
     "output_type": "stream",
     "text": [
      "Predefined Sentiment Analysis:\n",
      "Text: I love programming! It's so much fun.\n",
      "Sentiment: Polarity=0.4625, Subjectivity=0.4\n",
      "Analysis: Positive\n",
      "--------------------------------------------------\n",
      "Text: This is the worst day of my life.\n",
      "Sentiment: Polarity=-1.0, Subjectivity=1.0\n",
      "Analysis: Negative\n",
      "--------------------------------------------------\n",
      "Text: I'm not sure how I feel about this.\n",
      "Sentiment: Polarity=-0.25, Subjectivity=0.8888888888888888\n",
      "Analysis: Negative\n",
      "--------------------------------------------------\n",
      "Text: What a beautiful day it is!\n",
      "Sentiment: Polarity=1.0, Subjectivity=1.0\n",
      "Analysis: Positive\n",
      "--------------------------------------------------\n",
      "Text: The movie was okay, but it could have been better.\n",
      "Sentiment: Polarity=0.5, Subjectivity=0.5\n",
      "Analysis: Positive\n",
      "--------------------------------------------------\n",
      "Text: The food was absolutely delicious and exceeded my expectations.\n",
      "Sentiment: Polarity=1.0, Subjectivity=1.0\n",
      "Analysis: Positive\n",
      "--------------------------------------------------\n",
      "Text: I hate waiting in long lines at the store.\n",
      "Sentiment: Polarity=-0.42500000000000004, Subjectivity=0.65\n",
      "Analysis: Negative\n",
      "--------------------------------------------------\n",
      "Text: The new phone is amazing; I can't stop using it!\n",
      "Sentiment: Polarity=0.44318181818181823, Subjectivity=0.6772727272727272\n",
      "Analysis: Positive\n",
      "--------------------------------------------------\n",
      "Text: The weather has been terrible all week.\n",
      "Sentiment: Polarity=-1.0, Subjectivity=1.0\n",
      "Analysis: Negative\n",
      "--------------------------------------------------\n",
      "Text: I don't know why, but I'm feeling very hopeful today.\n",
      "Sentiment: Polarity=0.2, Subjectivity=0.3\n",
      "Analysis: Positive\n",
      "--------------------------------------------------\n",
      "Text: The customer service team was rude and unhelpful.\n",
      "Sentiment: Polarity=-0.3, Subjectivity=0.6\n",
      "Analysis: Negative\n",
      "--------------------------------------------------\n",
      "Text: I got a promotion at work! I'm so excited and grateful.\n",
      "Sentiment: Polarity=0.375, Subjectivity=0.75\n",
      "Analysis: Positive\n",
      "--------------------------------------------------\n"
     ]
    }
   ],
   "source": [
    "# Call the function to analyze the predefined list of texts\n",
    "print(\"Predefined Sentiment Analysis:\")\n",
    "analyze_sentiments(texts)"
   ]
  },
  {
   "cell_type": "code",
   "execution_count": null,
   "id": "98810801-9b1a-4b64-9118-8ff5f6ef8b90",
   "metadata": {},
   "outputs": [
    {
     "name": "stdout",
     "output_type": "stream",
     "text": [
      "\n",
      "Custom Text Sentiment Analysis:\n"
     ]
    },
    {
     "name": "stdin",
     "output_type": "stream",
     "text": [
      "Enter a sentence (or type 'exit' to quit):  My name is Sandhya Bhandari.\n"
     ]
    },
    {
     "name": "stdout",
     "output_type": "stream",
     "text": [
      "Text: My name is Sandhya Bhandari.\n",
      "Sentiment: Polarity=0.0, Subjectivity=0.0\n",
      "Analysis: Neutral\n",
      "--------------------------------------------------\n"
     ]
    },
    {
     "name": "stdin",
     "output_type": "stream",
     "text": [
      "Enter a sentence (or type 'exit' to quit):  I love programming.\n"
     ]
    },
    {
     "name": "stdout",
     "output_type": "stream",
     "text": [
      "Text: I love programming.\n",
      "Sentiment: Polarity=0.5, Subjectivity=0.6\n",
      "Analysis: Positive\n",
      "--------------------------------------------------\n"
     ]
    },
    {
     "name": "stdin",
     "output_type": "stream",
     "text": [
      "Enter a sentence (or type 'exit' to quit):  I am Data Analyst.\n"
     ]
    },
    {
     "name": "stdout",
     "output_type": "stream",
     "text": [
      "Text: I am Data Analyst.\n",
      "Sentiment: Polarity=0.0, Subjectivity=0.0\n",
      "Analysis: Neutral\n",
      "--------------------------------------------------\n"
     ]
    },
    {
     "name": "stdin",
     "output_type": "stream",
     "text": [
      "Enter a sentence (or type 'exit' to quit):  Reading books are great for mind.\n"
     ]
    },
    {
     "name": "stdout",
     "output_type": "stream",
     "text": [
      "Text: Reading books are great for mind.\n",
      "Sentiment: Polarity=0.8, Subjectivity=0.75\n",
      "Analysis: Positive\n",
      "--------------------------------------------------\n"
     ]
    }
   ],
   "source": [
    "# Allow user to input custom text\n",
    "print(\"\\nCustom Text Sentiment Analysis:\")\n",
    "while True:\n",
    "    custom_text = input(\"Enter a sentence (or type 'exit' to quit): \")\n",
    "    if custom_text.lower() == 'exit':\n",
    "        print(\"Exiting sentiment analysis. Goodbye!\")\n",
    "        break\n",
    "    blob = TextBlob(custom_text)\n",
    "    sentiment = blob.sentiment\n",
    "    print(f\"Text: {custom_text}\")\n",
    "    print(f\"Sentiment: Polarity={sentiment.polarity}, Subjectivity={sentiment.subjectivity}\")\n",
    "    print(\"Analysis:\", \"Positive\" if sentiment.polarity > 0 else \"Negative\" if sentiment.polarity < 0 else \"Neutral\")\n",
    "    print(\"-\" * 50)"
   ]
  },
  {
   "cell_type": "code",
   "execution_count": null,
   "id": "7c8b3442-0a0b-4b4f-9514-18f8f0db8eec",
   "metadata": {},
   "outputs": [],
   "source": []
  }
 ],
 "metadata": {
  "kernelspec": {
   "display_name": "Python 3 (ipykernel)",
   "language": "python",
   "name": "python3"
  },
  "language_info": {
   "codemirror_mode": {
    "name": "ipython",
    "version": 3
   },
   "file_extension": ".py",
   "mimetype": "text/x-python",
   "name": "python",
   "nbconvert_exporter": "python",
   "pygments_lexer": "ipython3",
   "version": "3.12.7"
  }
 },
 "nbformat": 4,
 "nbformat_minor": 5
}
