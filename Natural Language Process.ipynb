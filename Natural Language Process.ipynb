{
 "cells": [
  {
   "cell_type": "code",
   "execution_count": 2,
   "id": "76b43a9f-b98c-4ced-bed6-60c1c8228125",
   "metadata": {},
   "outputs": [],
   "source": [
    "# Import necessary libraries\n",
    "import nltk\n",
    "from textblob import TextBlob\n",
    "from nltk.tokenize import word_tokenize, sent_tokenize\n",
    "from nltk.corpus import stopwords\n",
    "from nltk.stem import WordNetLemmatizer"
   ]
  },
  {
   "cell_type": "code",
   "execution_count": 3,
   "id": "6b884903-246d-4d2b-a188-f4ddf02ca94e",
   "metadata": {},
   "outputs": [
    {
     "name": "stderr",
     "output_type": "stream",
     "text": [
      "[nltk_data] Downloading package punkt to\n",
      "[nltk_data]     C:\\Users\\sandh\\AppData\\Roaming\\nltk_data...\n",
      "[nltk_data]   Package punkt is already up-to-date!\n",
      "[nltk_data] Downloading package stopwords to\n",
      "[nltk_data]     C:\\Users\\sandh\\AppData\\Roaming\\nltk_data...\n",
      "[nltk_data]   Package stopwords is already up-to-date!\n",
      "[nltk_data] Downloading package wordnet to\n",
      "[nltk_data]     C:\\Users\\sandh\\AppData\\Roaming\\nltk_data...\n",
      "[nltk_data]   Package wordnet is already up-to-date!\n"
     ]
    },
    {
     "data": {
      "text/plain": [
       "True"
      ]
     },
     "execution_count": 3,
     "metadata": {},
     "output_type": "execute_result"
    }
   ],
   "source": [
    "# Download necessary NLTK resources\n",
    "nltk.download('punkt')\n",
    "nltk.download('stopwords')\n",
    "nltk.download('wordnet')"
   ]
  },
  {
   "cell_type": "code",
   "execution_count": 4,
   "id": "6bdfca45-c6d9-40a0-9175-2186459c0757",
   "metadata": {},
   "outputs": [],
   "source": [
    "# Sample text for NLP processing\n",
    "text = \"\"\"Natural Language Processing (NLP) is an exciting field of Artificial Intelligence. \n",
    "It enables computers to process and analyze human language. NLP is widely used in applications such as chatbots, \n",
    "sentiment analysis, and machine translation.\"\"\""
   ]
  },
  {
   "cell_type": "code",
   "execution_count": 5,
   "id": "f3b1a2e1-88cb-4ad7-8a8d-08682ee14ac8",
   "metadata": {},
   "outputs": [
    {
     "name": "stdout",
     "output_type": "stream",
     "text": [
      "Words: ['Natural', 'Language', 'Processing', '(', 'NLP', ')', 'is', 'an', 'exciting', 'field', 'of', 'Artificial', 'Intelligence', '.', 'It', 'enables', 'computers', 'to', 'process', 'and', 'analyze', 'human', 'language', '.', 'NLP', 'is', 'widely', 'used', 'in', 'applications', 'such', 'as', 'chatbots', ',', 'sentiment', 'analysis', ',', 'and', 'machine', 'translation', '.']\n",
      "\n",
      "Sentences: ['Natural Language Processing (NLP) is an exciting field of Artificial Intelligence.', 'It enables computers to process and analyze human language.', 'NLP is widely used in applications such as chatbots, \\nsentiment analysis, and machine translation.']\n"
     ]
    }
   ],
   "source": [
    "# 1️⃣ Tokenization\n",
    "words = word_tokenize(text)\n",
    "sentences = sent_tokenize(text)\n",
    "print(\"Words:\", words)\n",
    "print(\"\\nSentences:\", sentences)"
   ]
  },
  {
   "cell_type": "code",
   "execution_count": 6,
   "id": "8e663ca0-426f-4974-a65f-20d4d804d575",
   "metadata": {},
   "outputs": [
    {
     "name": "stdout",
     "output_type": "stream",
     "text": [
      "\n",
      "Filtered Words (No Stopwords): ['Natural', 'Language', 'Processing', '(', 'NLP', ')', 'exciting', 'field', 'Artificial', 'Intelligence', '.', 'enables', 'computers', 'process', 'analyze', 'human', 'language', '.', 'NLP', 'widely', 'used', 'applications', 'chatbots', ',', 'sentiment', 'analysis', ',', 'machine', 'translation', '.']\n"
     ]
    }
   ],
   "source": [
    "# Removing Stopwords\n",
    "stop_words = set(stopwords.words(\"english\"))\n",
    "filtered_words = [word for word in words if word.lower() not in stop_words]\n",
    "print(\"\\nFiltered Words (No Stopwords):\", filtered_words)"
   ]
  },
  {
   "cell_type": "code",
   "execution_count": 7,
   "id": "8faa3402-4178-44f1-b053-ab7a1257f00d",
   "metadata": {},
   "outputs": [
    {
     "name": "stdout",
     "output_type": "stream",
     "text": [
      "\n",
      "Lemmatized Words: ['Natural', 'Language', 'Processing', '(', 'NLP', ')', 'exciting', 'field', 'Artificial', 'Intelligence', '.', 'enables', 'computer', 'process', 'analyze', 'human', 'language', '.', 'NLP', 'widely', 'used', 'application', 'chatbots', ',', 'sentiment', 'analysis', ',', 'machine', 'translation', '.']\n"
     ]
    }
   ],
   "source": [
    "# Lemmatization\n",
    "lemmatizer = WordNetLemmatizer()\n",
    "lemmatized_words = [lemmatizer.lemmatize(word) for word in filtered_words]\n",
    "print(\"\\nLemmatized Words:\", lemmatized_words)"
   ]
  },
  {
   "cell_type": "code",
   "execution_count": 8,
   "id": "eecea6c8-166e-4aaa-8735-92c9ad526cd7",
   "metadata": {},
   "outputs": [
    {
     "name": "stdout",
     "output_type": "stream",
     "text": [
      "\n",
      "Sentiment Polarity: -0.04999999999999999\n"
     ]
    }
   ],
   "source": [
    "# Sentiment Analysis\n",
    "blob = TextBlob(text)\n",
    "print(\"\\nSentiment Polarity:\", blob.sentiment.polarity)  # Ranges from -1 (negative) to +1 (positive)"
   ]
  },
  {
   "cell_type": "code",
   "execution_count": null,
   "id": "3091ae92-4498-40fc-8372-c10a2c44bc74",
   "metadata": {},
   "outputs": [],
   "source": []
  }
 ],
 "metadata": {
  "kernelspec": {
   "display_name": "Python 3 (ipykernel)",
   "language": "python",
   "name": "python3"
  },
  "language_info": {
   "codemirror_mode": {
    "name": "ipython",
    "version": 3
   },
   "file_extension": ".py",
   "mimetype": "text/x-python",
   "name": "python",
   "nbconvert_exporter": "python",
   "pygments_lexer": "ipython3",
   "version": "3.12.7"
  }
 },
 "nbformat": 4,
 "nbformat_minor": 5
}
