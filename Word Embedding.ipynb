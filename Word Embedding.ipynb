{
 "cells": [
  {
   "cell_type": "code",
   "execution_count": 3,
   "id": "c1eab938-4109-4b38-a9df-e3709963142a",
   "metadata": {},
   "outputs": [],
   "source": [
    "# Install gensim -> Library used to train word embeddings\n",
    "from gensim.models import Word2Vec # class from gensim lib\n",
    "from gensim.utils import simple_preprocess # function to preprocess "
   ]
  },
  {
   "cell_type": "code",
   "execution_count": 4,
   "id": "3a3f2fe3-0c27-479a-b137-76a574f47833",
   "metadata": {},
   "outputs": [
    {
     "data": {
      "text/plain": [
       "['Machine Learning is interesting',\n",
       " 'Natural language Processing involves understanding text',\n",
       " 'Word Embedding are useful in NLP',\n",
       " 'Deep Learning and NLP are powerful']"
      ]
     },
     "execution_count": 4,
     "metadata": {},
     "output_type": "execute_result"
    }
   ],
   "source": [
    "corpus = [\n",
    "    \"Machine Learning is interesting\",\n",
    "    \"Natural language Processing involves understanding text\",\n",
    "    \"Word Embedding are useful in NLP\",\n",
    "    \"Deep Learning and NLP are powerful\"\n",
    "]\n",
    "corpus"
   ]
  },
  {
   "cell_type": "code",
   "execution_count": 6,
   "id": "24ea51ff-7623-4620-ac0a-03c325e3a667",
   "metadata": {},
   "outputs": [
    {
     "data": {
      "text/plain": [
       "[['machine', 'learning', 'is', 'interesting'],\n",
       " ['natural', 'language', 'processing', 'involves', 'understanding', 'text'],\n",
       " ['word', 'embedding', 'are', 'useful', 'in', 'nlp'],\n",
       " ['deep', 'learning', 'and', 'nlp', 'are', 'powerful']]"
      ]
     },
     "execution_count": 6,
     "metadata": {},
     "output_type": "execute_result"
    }
   ],
   "source": [
    "preprocessed_corpus = [simple_preprocess(sentence) for sentence in corpus]\n",
    "preprocessed_corpus"
   ]
  },
  {
   "cell_type": "code",
   "execution_count": 11,
   "id": "282965c0-6777-40c8-ba9c-2049ac6c854b",
   "metadata": {},
   "outputs": [],
   "source": [
    "model = Word2Vec(sentences = preprocessed_corpus, vector_size = 10, window = 3, min_count = 1, workers = 4)"
   ]
  },
  {
   "cell_type": "code",
   "execution_count": 8,
   "id": "ecd7ed14-5a88-49f6-8833-04600e748112",
   "metadata": {},
   "outputs": [
    {
     "data": {
      "text/plain": [
       "<gensim.models.word2vec.Word2Vec at 0x21e6f2cfa70>"
      ]
     },
     "execution_count": 8,
     "metadata": {},
     "output_type": "execute_result"
    }
   ],
   "source": [
    "model"
   ]
  },
  {
   "cell_type": "code",
   "execution_count": 14,
   "id": "3e103a2f-7c70-429c-8f43-edeaf3314e59",
   "metadata": {},
   "outputs": [
    {
     "data": {
      "text/plain": [
       "array([ 0.07898474, -0.06988422, -0.09155976, -0.00356348, -0.03099445,\n",
       "        0.07894531,  0.05939796, -0.01545886,  0.0151037 ,  0.01789099],\n",
       "      dtype=float32)"
      ]
     },
     "execution_count": 14,
     "metadata": {},
     "output_type": "execute_result"
    }
   ],
   "source": [
    "word = \"embedding\"\n",
    "vector = model.wv[word]\n",
    "vector"
   ]
  },
  {
   "cell_type": "code",
   "execution_count": 13,
   "id": "9acb2d6d-e23d-44b4-b232-d16d2a91209f",
   "metadata": {},
   "outputs": [
    {
     "name": "stdout",
     "output_type": "stream",
     "text": [
      "Vector for the word 'learning':\n",
      "[-0.00536227  0.00236431  0.0510335   0.09009273 -0.0930295  -0.07116809\n",
      "  0.06458873  0.08972988 -0.05015428 -0.03763372]\n"
     ]
    }
   ],
   "source": [
    "print(f\"Vector for the word '{word}':\\n{vector}\")"
   ]
  },
  {
   "cell_type": "code",
   "execution_count": 16,
   "id": "ba6e491f-0fff-4e7d-ba50-50530ecddab2",
   "metadata": {},
   "outputs": [
    {
     "data": {
      "text/plain": [
       "[('useful', 0.7049519419670105),\n",
       " ('understanding', 0.5370681881904602),\n",
       " ('word', 0.5149553418159485),\n",
       " ('nlp', 0.3043506145477295),\n",
       " ('in', 0.18986262381076813),\n",
       " ('interesting', 0.17936623096466064)]"
      ]
     },
     "execution_count": 16,
     "metadata": {},
     "output_type": "execute_result"
    }
   ],
   "source": [
    "similar_words = model.wv.most_similar(word, topn=6)\n",
    "similar_words"
   ]
  },
  {
   "cell_type": "code",
   "execution_count": null,
   "id": "3c7ca281-d501-4d26-8550-84f571567328",
   "metadata": {},
   "outputs": [],
   "source": []
  }
 ],
 "metadata": {
  "kernelspec": {
   "display_name": "Python 3 (ipykernel)",
   "language": "python",
   "name": "python3"
  },
  "language_info": {
   "codemirror_mode": {
    "name": "ipython",
    "version": 3
   },
   "file_extension": ".py",
   "mimetype": "text/x-python",
   "name": "python",
   "nbconvert_exporter": "python",
   "pygments_lexer": "ipython3",
   "version": "3.12.7"
  }
 },
 "nbformat": 4,
 "nbformat_minor": 5
}
