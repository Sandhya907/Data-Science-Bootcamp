{
 "cells": [
  {
   "cell_type": "markdown",
   "id": "c3b8b36e-524c-4344-8a7d-e61f8982c932",
   "metadata": {},
   "source": [
    "# Introduction to NLP(Natural Language Processing)\n",
    "- A subfield of Artificial Intelligence that focuses on the interaction between computers and human(natural) language.\n",
    "- It enables machine to understand, interpret, and generate human language in a way that is meaningful and useful.\n",
    "-NLP lies at the intersection of linguistic, computer science and AI, combining the rule and sturcture of human language with computational algorithms to bridge the gap between human communication and machine understanding."
   ]
  },
  {
   "cell_type": "markdown",
   "id": "13d309c7-fb37-4cbe-90f9-42fc5caaf798",
   "metadata": {},
   "source": [
    "### Domains of AI\n",
    "- Computer Vision (Image and Video - Image Processing -> CNN AND RNN)\n",
    "- Natural language Processing (Text and Audio) Chatbots, Alexa, Siri\n",
    "- Statistical Data (CSV, Excel -> Recommendation & Prediction using historical data"
   ]
  },
  {
   "cell_type": "markdown",
   "id": "2fdca3d4-d9a6-404b-aa4f-e26f6be5159e",
   "metadata": {},
   "source": [
    "### Importance of NLP:\n",
    "- Human Language is Complex\n",
    "- Exponential Growth of Data\n",
    "- Efficient Human-machine Interaction\n",
    "  - Text Classification\n",
    "  - Informational Retrieval\n",
    "  - Natural language Understanding\n",
    "  - Natural Language Generation"
   ]
  },
  {
   "cell_type": "markdown",
   "id": "e5d1b823-35b1-4b72-8f0e-7b1c5c004765",
   "metadata": {},
   "source": [
    "### Application of NLP in Real World:\n",
    "- Personal Assistant\n",
    "- Machine Translation\n",
    "- Customer Support\n",
    "- Sentiment Analysis\n",
    "- Text Summarization\n",
    "- Healthcare\n",
    "- Search Engines"
   ]
  },
  {
   "cell_type": "markdown",
   "id": "25aa4539-fa6b-497e-9d33-18a02c40d848",
   "metadata": {},
   "source": [
    "### Historical Background\n",
    "- 1950s - Foundational Era (Turing Test and Georgetown-IBM experiment)\n",
    "- 1960s - Rule Based Systems (Handcrafted rules and linguistic Grammar)\n",
    "- 1980s - Statistical Methods (systems more scalable and robust)\n",
    "- 2000s - Data Driven Approaches (ML techniques such as Supervised learning)\n",
    "- 2010s - Deep Learning Revolution (BERT, GPT)"
   ]
  },
  {
   "cell_type": "markdown",
   "id": "cff56128-6105-4350-91c2-1802ed815a54",
   "metadata": {},
   "source": [
    "### Importance of NLP for Data Analytics:\n",
    "- Handling Unstructured Data\n",
    "- Extracting Insights\n",
    "- Automation of Analysis\n",
    "- Improved Decison-Making\n",
    "- Enhancing Data Queries"
   ]
  },
  {
   "cell_type": "markdown",
   "id": "35920998-ddf9-489e-aff4-2ca56b3ee6f6",
   "metadata": {},
   "source": [
    "### NLP Pipeline\n",
    "- Sentence Segmentation\n",
    "- Word Tokenization\n",
    "- Stemming\n",
    "- Lemmatization\n",
    "- Stop word anlaysis\n",
    "- Dependency Parsing\n",
    "- Part-of-speech tagging"
   ]
  },
  {
   "cell_type": "markdown",
   "id": "f8568d97-9a9d-40f7-a9f7-979dc65100ae",
   "metadata": {},
   "source": [
    "#### Text Documents\n",
    "- Text pre-processing\n",
    "- Text parsing & Exploratory Data Analysis \n",
    "- Text Representation & Feature Engineering\n",
    "- Modelling and/or Pattern Mining\n",
    "- Evaluation & Deployment"
   ]
  },
  {
   "cell_type": "markdown",
   "id": "31c02493-d355-4d69-9875-6d09f575a554",
   "metadata": {},
   "source": [
    "### Comprehensive NLP Pipeline\n",
    "- Text Input - Raw data from documents, web pages, social media, etc.\n",
    "- Text Preprocessing - Text is cleaned and prepared for further analysis\n",
    "- Text Representation -  Converting Text into a Machine-readable format\n",
    "- Named Entity Recognition - Identify entities like names, dates, organizations\n",
    "- Syntactic Analysis - Analyzing the grammatical structure of the text"
   ]
  },
  {
   "cell_type": "markdown",
   "id": "6eabdfdf-32cb-4b6e-8fe2-6bf40fdc1338",
   "metadata": {},
   "source": [
    "### Tokenization\n",
    "- Word Tokenization\n",
    "- Sentence Tokenization\n",
    "- Subword Tokenization\n",
    "- Character Tokenization"
   ]
  },
  {
   "cell_type": "code",
   "execution_count": null,
   "id": "246d7de4-a02f-4748-9417-ace7b3c3012d",
   "metadata": {},
   "outputs": [],
   "source": []
  }
 ],
 "metadata": {
  "kernelspec": {
   "display_name": "Python 3 (ipykernel)",
   "language": "python",
   "name": "python3"
  },
  "language_info": {
   "codemirror_mode": {
    "name": "ipython",
    "version": 3
   },
   "file_extension": ".py",
   "mimetype": "text/x-python",
   "name": "python",
   "nbconvert_exporter": "python",
   "pygments_lexer": "ipython3",
   "version": "3.12.7"
  }
 },
 "nbformat": 4,
 "nbformat_minor": 5
}
