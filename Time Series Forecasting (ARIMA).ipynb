{
 "cells": [
  {
   "cell_type": "markdown",
   "id": "88c40309-6d3b-4664-baf0-e8f306c383ef",
   "metadata": {},
   "source": [
    "### 1. ARIMA (AutoRegressive Integrated Moving Average)\n",
    "ARIMA is popular and powerful statistical model for time series forecasting.\n",
    "\n",
    "It is particularly effective for data that shows trends but lacks strong seasonal components."
   ]
  },
  {
   "cell_type": "markdown",
   "id": "0e999c2c-b719-4347-befe-daf681360f3d",
   "metadata": {},
   "source": [
    "##### Imagine you're guessing tomorrow's weather based on how similar today is to yesterday and the day before.\n",
    "- AR looks at past values (lags) and finds a relationship.\n",
    "- Example: \n",
    "  -  If it has been sunny for the past two days, there's a good chance tomorrow will be sunny as well\n",
    "  - If ice cream sales were high for the past two Saturdays (hot weekends), we might predict high sales this coming Saturday as well."
   ]
  },
  {
   "cell_type": "markdown",
   "id": "34297363-3b5b-4dd6-9cc8-5485760d4dc5",
   "metadata": {},
   "source": [
    "#### Components of ARIMA:\n",
    "Consists of three main parts, denoted as (p,d, q):\n",
    "\n",
    "1. Autoegressive (AR):\n",
    "- \"Use the Past to Predict the Present\"\n",
    "- Uses the relationship between an observation and a specified number of lagged observations.\n",
    "- Parameter(p): Determines the number of lagged terms to include.\n",
    "- Example : Predicting today's sales based on the last two days sales.\n",
    "\n",
    "2. Integrated (I):\n",
    "- Refers to differencing the data to achieve stationarity (removing trendsand seasonality).\n",
    "- The integrated part removes trends to make the data stationarity (nolong-term rise/fall).\n",
    "- Parameters (d): Specifies the number of differences needed to make the series stationary.\n",
    "- Example: Converting a time series from cumulative sales to dailysales by differencing (subtracting one value from the next).\n",
    "  - Sales: [100, 200, 300, 400] - Before Differencing \n",
    "  - Sales Change: [100, 100, 100] - After Differencing\n",
    "\n",
    "Stationarity: A time series is stationary if its statistical properties (mean, variance, and autocorrelation) do not change over time.\n",
    "- Constant mean and variance over time.\n",
    "- No strong trend\n",
    "- No seasonality"
   ]
  },
  {
   "cell_type": "markdown",
   "id": "7b1cc8aa-0281-453d-8cb7-35509e9847be",
   "metadata": {},
   "source": [
    "#### Why is Stationarity Important?\n",
    "- Many models (like ARIMA) require stationary data because it simplifies forecasting and ensures reliable results.\n",
    "- Non-stationary data can lead to inaccurate predictions and misleading insights.\n",
    "- Augmented Dickey-Fuller(ADF) Test: Tests if a series is stationary"
   ]
  },
  {
   "cell_type": "markdown",
   "id": "75950ee6-228e-48ff-8b34-8dc858b5866a",
   "metadata": {},
   "source": [
    "3. Moving Average:\n",
    "- \"Smooth out the Noise\"\n",
    "- Uses dependency between an observation and residual errors from a moving average model applied to lagged observations.\n",
    "- MA learns from past mistakes to smooth out randomness,\n",
    "- Parameter (q): Determines the number of "
   ]
  },
  {
   "cell_type": "markdown",
   "id": "d6cf4e05-c808-4c4b-a774-18aaffed9aaa",
   "metadata": {},
   "source": [
    "#### Summary \n",
    "ARIMA combines these three tools into one model to forecast time series:\n",
    "- AR(p): How many past values to use?\n",
    "- I (d): How many differences to make the data stationary?\n",
    "- MA (q): How many past errors to use?"
   ]
  },
  {
   "cell_type": "markdown",
   "id": "0c9b1960-32cf-40cc-85ce-d57052e4d5c1",
   "metadata": {},
   "source": [
    "#### When to use ARIMA:\n",
    "- Data exhibits trends but lacks strong seasonality.\n",
    "- Data is not stationary and requires differencing to remove trends.\n",
    "- Need a reliable model for short- term forecasts."
   ]
  },
  {
   "cell_type": "markdown",
   "id": "af839bbb-6494-431c-b4ba-e674d2365363",
   "metadata": {},
   "source": [
    "#### Steps to Build ARIMA Model:\n",
    "1. Check for Stationarity\n",
    "- Use visual inspection (line plots) and statistical tests like the Augmented Dickey-Fuller (ADF) Test.\n",
    "- Stationarity Criteris: Constant mean and variance over time\n",
    "\n",
    "2. Make Data Stationary (Differencing)\n",
    "- Aplly differencing to remove trends or seasonality.\n",
    "\n",
    "3. Identify ARIMA Parameters (p,d, q)\n",
    "- ACF\n",
    "- PACF\n",
    "- D (Integration)\n",
    "     \n",
    "4. Fit the Model\n",
    "- Use libraries like statsmodels in Python to fit the ARIMA model.\n",
    "     \n",
    "5. Evaluate the Model\n",
    "- Use metrics like AIC (Akaike Information Criterion), BIC (Bayesian Information Criterion), and RMSE (Root Mean Squared Error)"
   ]
  },
  {
   "cell_type": "code",
   "execution_count": 2,
   "id": "5c2c704a-cf50-48e0-9cb4-7446ff8eecca",
   "metadata": {},
   "outputs": [],
   "source": [
    "import pandas as pd\n",
    "from statsmodels.tsa.arima.model import ARIMA\n",
    "from matplotlib import pyplot as plt"
   ]
  },
  {
   "cell_type": "code",
   "execution_count": 7,
   "id": "820c2aa2-cf9b-4ddb-a8bb-9d2f70bf4e3f",
   "metadata": {},
   "outputs": [
    {
     "name": "stderr",
     "output_type": "stream",
     "text": [
      "C:\\Users\\sandh\\anaconda3\\Lib\\site-packages\\statsmodels\\base\\model.py:607: ConvergenceWarning: Maximum Likelihood optimization failed to converge. Check mle_retvals\n",
      "  warnings.warn(\"Maximum Likelihood optimization failed to \"\n"
     ]
    },
    {
     "name": "stdout",
     "output_type": "stream",
     "text": [
      "                               SARIMAX Results                                \n",
      "==============================================================================\n",
      "Dep. Variable:                      y   No. Observations:                   20\n",
      "Model:                 ARIMA(2, 1, 2)   Log Likelihood                 -44.720\n",
      "Date:                Tue, 28 Jan 2025   AIC                             99.440\n",
      "Time:                        20:59:03   BIC                            104.162\n",
      "Sample:                             0   HQIC                           100.239\n",
      "                                 - 20                                         \n",
      "Covariance Type:                  opg                                         \n",
      "==============================================================================\n",
      "                 coef    std err          z      P>|z|      [0.025      0.975]\n",
      "------------------------------------------------------------------------------\n",
      "ar.L1          1.3023      0.581      2.240      0.025       0.163       2.442\n",
      "ar.L2         -0.3042      0.591     -0.515      0.607      -1.462       0.853\n",
      "ma.L1         -1.9377     18.112     -0.107      0.915     -37.437      33.561\n",
      "ma.L2          0.9932     18.749      0.053      0.958     -35.754      37.740\n",
      "sigma2         4.6574     84.458      0.055      0.956    -160.876     170.191\n",
      "===================================================================================\n",
      "Ljung-Box (L1) (Q):                   0.36   Jarque-Bera (JB):                 1.13\n",
      "Prob(Q):                              0.55   Prob(JB):                         0.57\n",
      "Heteroskedasticity (H):               1.56   Skew:                            -0.26\n",
      "Prob(H) (two-sided):                  0.60   Kurtosis:                         1.92\n",
      "===================================================================================\n",
      "\n",
      "Warnings:\n",
      "[1] Covariance matrix calculated using the outer product of gradients (complex-step).\n"
     ]
    },
    {
     "data": {
      "image/png": "[encoded data removed]",
      "text/plain": [
       "<Figure size 640x480 with 1 Axes>"
      ]
     },
     "metadata": {},
     "output_type": "display_data"
    }
   ],
   "source": [
    "# Sample time series data \n",
    "data = {\n",
    "    \"Date\": pd.date_range(start=\"2024-01-01\", end=\"2024-01-20\"),\n",
    "    \"Value\": [100, 102, 101, 104, 107, 110, 115, 113, 117, 119,\n",
    "              118, 120, 125, 130, 128, 135, 137, 140, 138, 142],\n",
    "}\n",
    "\n",
    "series = data['Value']\n",
    "\n",
    "# Fit ARIMA Model\n",
    "model = ARIMA(series, order=(2, 1, 2)) # Example parameters (p, d, q)\n",
    "model_fit = model.fit()\n",
    "\n",
    "# Summary of the model\n",
    "print(model_fit.summary())\n",
    "\n",
    "# Forecasting\n",
    "forecast = model_fit.forecast(steps=10) # Predict the next 10 steps\n",
    "\n",
    "# Plot original data and forecast\n",
    "plt.plot(series, label ='Original')\n",
    "plt.plot(forecast, label='Forecast', color='red')\n",
    "plt.legend()\n",
    "plt.show()"
   ]
  },
  {
   "cell_type": "code",
   "execution_count": null,
   "id": "d1c57c94-2918-4e01-baab-19fcdf46c3ef",
   "metadata": {},
   "outputs": [],
   "source": []
  }
 ],
 "metadata": {
  "kernelspec": {
   "display_name": "Python 3 (ipykernel)",
   "language": "python",
   "name": "python3"
  },
  "language_info": {
   "codemirror_mode": {
    "name": "ipython",
    "version": 3
   },
   "file_extension": ".py",
   "mimetype": "text/x-python",
   "name": "python",
   "nbconvert_exporter": "python",
   "pygments_lexer": "ipython3",
   "version": "3.12.7"
  }
 },
 "nbformat": 4,
 "nbformat_minor": 5
}
