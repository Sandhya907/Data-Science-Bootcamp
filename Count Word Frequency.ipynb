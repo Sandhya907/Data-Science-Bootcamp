{
 "cells": [
  {
   "cell_type": "code",
   "execution_count": 1,
   "id": "19df45fe-60d6-4d88-a244-a140c2633f27",
   "metadata": {},
   "outputs": [],
   "source": [
    "import string"
   ]
  },
  {
   "cell_type": "code",
   "execution_count": 7,
   "id": "8aaed35c-5914-41a3-b880-c7013f1e40a5",
   "metadata": {},
   "outputs": [],
   "source": [
    "def count_word_frequency():\n",
    "    # Step 1: Accept text input from the user\n",
    "    text = input(\"Enter a text: \")\n",
    "\n",
    "    # Step 2: Preprocess the text\n",
    "    text = text.lower()  # Convert text to lowercase\n",
    "    text = text.translate(str.maketrans(\"\", \"\", string.punctuation))  # Remove punctuation\n",
    "\n",
    "    # Step 3: Split the text into words\n",
    "    words = text.split()\n",
    "\n",
    "    # Step 4: Count the frequency of each unique word\n",
    "    word_frequency = {}\n",
    "    for word in words:\n",
    "        if word in word_frequency:\n",
    "            word_frequency[word] += 1\n",
    "        else:\n",
    "            word_frequency[word] = 1\n",
    "\n",
    "    # Step 5: Output the word frequency\n",
    "    print(\"\\nWord Frequency:\")\n",
    "    for word, frequency in word_frequency.items():\n",
    "        print(f\"{word}: {frequency}\")\n"
   ]
  },
  {
   "cell_type": "code",
   "execution_count": 8,
   "id": "1ac24f10-ef93-4f22-8d84-58cbfa51d208",
   "metadata": {},
   "outputs": [
    {
     "name": "stdin",
     "output_type": "stream",
     "text": [
      "Enter a text:  Hello world! Hello, Python world.\n"
     ]
    },
    {
     "name": "stdout",
     "output_type": "stream",
     "text": [
      "\n",
      "Word Frequency:\n",
      "hello: 2\n",
      "world: 2\n",
      "python: 1\n"
     ]
    }
   ],
   "source": [
    "# Run the program\n",
    "count_word_frequency()"
   ]
  },
  {
   "cell_type": "code",
   "execution_count": null,
   "id": "1d16bcd4-f33e-4edc-a12c-5cd1b1815326",
   "metadata": {},
   "outputs": [],
   "source": []
  }
 ],
 "metadata": {
  "kernelspec": {
   "display_name": "Python 3 (ipykernel)",
   "language": "python",
   "name": "python3"
  },
  "language_info": {
   "codemirror_mode": {
    "name": "ipython",
    "version": 3
   },
   "file_extension": ".py",
   "mimetype": "text/x-python",
   "name": "python",
   "nbconvert_exporter": "python",
   "pygments_lexer": "ipython3",
   "version": "3.12.7"
  }
 },
 "nbformat": 4,
 "nbformat_minor": 5
}
