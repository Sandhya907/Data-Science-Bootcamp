{
 "cells": [
  {
   "cell_type": "code",
   "execution_count": 1,
   "id": "e323f07a-d231-4159-a200-3c96011621aa",
   "metadata": {},
   "outputs": [
    {
     "name": "stdout",
     "output_type": "stream",
     "text": [
      "Best Parameters: {'x': 0, 'y': 0}\n",
      "Best Score: 0\n"
     ]
    }
   ],
   "source": [
    "import numpy as np\n",
    "from sklearn.model_selection import ParameterGrid\n",
    "\n",
    "# Define the function to minimize: f(x, y) = x^2 + y^2\n",
    "def objective_function(x, y):\n",
    "    return x**2 + y**2  # We aim to minimize this\n",
    "\n",
    "# Define parameter grid\n",
    "param_grid = {'x': np.arange(-10, 11, 1), 'y': np.arange(-10, 11, 1)}\n",
    "\n",
    "# Perform Grid Search manually\n",
    "best_params = None\n",
    "best_score = float('inf')  # We are minimizing, so start with a high value\n",
    "\n",
    "for params in ParameterGrid(param_grid):\n",
    "    score = objective_function(params['x'], params['y'])\n",
    "    if score < best_score:\n",
    "        best_score = score\n",
    "        best_params = params\n",
    "\n",
    "# Print best parameters and best score\n",
    "print(\"Best Parameters:\", best_params)\n",
    "print(\"Best Score:\", best_score)"
   ]
  },
  {
   "cell_type": "code",
   "execution_count": null,
   "id": "38b5d92e-e4d0-4ff1-8f18-5ead720b0398",
   "metadata": {},
   "outputs": [],
   "source": []
  }
 ],
 "metadata": {
  "kernelspec": {
   "display_name": "Python 3 (ipykernel)",
   "language": "python",
   "name": "python3"
  },
  "language_info": {
   "codemirror_mode": {
    "name": "ipython",
    "version": 3
   },
   "file_extension": ".py",
   "mimetype": "text/x-python",
   "name": "python",
   "nbconvert_exporter": "python",
   "pygments_lexer": "ipython3",
   "version": "3.12.7"
  }
 },
 "nbformat": 4,
 "nbformat_minor": 5
}
